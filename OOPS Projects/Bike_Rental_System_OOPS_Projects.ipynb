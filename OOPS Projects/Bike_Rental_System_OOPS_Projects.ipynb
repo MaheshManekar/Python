{
  "nbformat": 4,
  "nbformat_minor": 0,
  "metadata": {
    "colab": {
      "provenance": []
    },
    "kernelspec": {
      "name": "python3",
      "display_name": "Python 3"
    },
    "language_info": {
      "name": "python"
    }
  },
  "cells": [
    {
      "cell_type": "code",
      "execution_count": null,
      "metadata": {
        "id": "ZZh0onZVoXkE"
      },
      "outputs": [],
      "source": [
        "# What we'll do in this project\n",
        "\n",
        "\"\"\"\n",
        "1) Need to define the available bikes (Display Available Stock)\n",
        "2) If user wants to rent the bike then he'll choose the count of bikes want to rent according to that we need to display the pricing (100 rs --> 1 Qty [Request a Bike for Rent])\n",
        "3) Exit\n",
        "\"\"\""
      ]
    },
    {
      "cell_type": "code",
      "source": [
        "class BikeShop:\n",
        "  def __init__(self, stock):\n",
        "    self.stock = stock\n",
        "  def displayBike(self):\n",
        "    print(\"Total Bike Available- \", self.stock)\n",
        "  def rentForBike(self,q):\n",
        "    if q <= 0:\n",
        "      print(\"Please provide a positive number or value greater than 0\")\n",
        "    elif q>self.stock:\n",
        "      print(\"Enter the value less than stock\")\n",
        "    else:\n",
        "      self.stock = self.stock-q\n",
        "      print(\"Total Price\", q*100)\n",
        "      print(\"Total Bikes\", self.stock)\n",
        "\n",
        "while True:\n",
        "  obj = BikeShop(100)\n",
        "  user_input = int(input(\n",
        "      \"\"\"\n",
        "1) Display Stock\n",
        "2) Rent a Bike\n",
        "3) Exit      \n",
        "      \n",
        "      \"\"\"\n",
        "  ))\n",
        "  if user_input == 1:\n",
        "    obj.displayBike()\n",
        "  elif  user_input == 2:\n",
        "    n = int(input(\"Enter the Qunatity-\"))\n",
        "    obj.rentForBike(n)\n",
        "  else:\n",
        "    break\n",
        "    "
      ],
      "metadata": {
        "id": "rQpgAt0V4aNk",
        "colab": {
          "base_uri": "https://localhost:8080/"
        },
        "outputId": "88e8c63e-ad57-45f8-e749-1ab27f4fda70"
      },
      "execution_count": 6,
      "outputs": [
        {
          "name": "stdout",
          "output_type": "stream",
          "text": [
            "\n",
            "1) Display Stock\n",
            "2) Rent a Bike\n",
            "3) Exit      \n",
            "      \n",
            "      1\n",
            "Total Bike Available-  100\n",
            "\n",
            "1) Display Stock\n",
            "2) Rent a Bike\n",
            "3) Exit      \n",
            "      \n",
            "      2\n",
            "Enter the Qunatity-88\n",
            "Total Price 8800\n",
            "Total Bikes 12\n",
            "\n",
            "1) Display Stock\n",
            "2) Rent a Bike\n",
            "3) Exit      \n",
            "      \n",
            "      3\n"
          ]
        }
      ]
    },
    {
      "cell_type": "code",
      "source": [],
      "metadata": {
        "id": "T9NJMLUgW9ir"
      },
      "execution_count": 2,
      "outputs": []
    },
    {
      "cell_type": "code",
      "source": [],
      "metadata": {
        "id": "HZKdsHqwXEP6"
      },
      "execution_count": null,
      "outputs": []
    }
  ]
}